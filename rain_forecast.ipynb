{
 "cells": [
  {
   "cell_type": "markdown",
   "source": [
    "### Importando pacotes e dataset"
   ],
   "metadata": {
    "collapsed": false
   }
  },
  {
   "cell_type": "code",
   "execution_count": 70,
   "outputs": [
    {
     "output_type": "execute_result",
     "data": {
      "text/plain": [
       "   Unnamed: 0  Estacao        Data  Hora  Precipitacao  TempBulboSeco  \\\n",
       "0    12132121    83377  21/08/1961     0           NaN           22.6   \n",
       "1    12132122    83377  21/08/1961  1200           NaN           23.8   \n",
       "2    12132123    83377  21/08/1961  1800           NaN           24.2   \n",
       "3    12132124    83377  22/08/1961     0           NaN           22.6   \n",
       "4    12132125    83377  22/08/1961  1200           0.0           24.8   \n",
       "\n",
       "   TempBulboUmido  TempMaxima  TempMinima  UmidadeRelativa  ...  \\\n",
       "0            14.1        27.9         NaN             36.0  ...   \n",
       "1            15.2         NaN        13.8             37.0  ...   \n",
       "2            15.4         NaN         NaN             36.0  ...   \n",
       "3            14.1        29.7         NaN             36.0  ...   \n",
       "4            14.6         NaN        13.9             30.0  ...   \n",
       "\n",
       "   PressaoAtmMar  DirecaoVento  VelocidadeVento  Insolacao  Nebulosidade  \\\n",
       "0            NaN           NaN              NaN       10.0           NaN   \n",
       "1            NaN           9.0              1.5        NaN           0.0   \n",
       "2            NaN          14.0              2.6        NaN           7.0   \n",
       "3            NaN           0.0              0.0        9.4           5.0   \n",
       "4            NaN          14.0              2.1        NaN           4.0   \n",
       "\n",
       "   Evaporacao Piche  Temp Comp Media  Umidade Relativa Media  \\\n",
       "0               NaN            22.14                   36.25   \n",
       "1               NaN              NaN                     NaN   \n",
       "2               NaN              NaN                     NaN   \n",
       "3               NaN            23.52                   28.25   \n",
       "4               NaN              NaN                     NaN   \n",
       "\n",
       "   Velocidade do Vento Media  Unnamed: 19  \n",
       "0                   1.366667          NaN  \n",
       "1                        NaN          NaN  \n",
       "2                        NaN          NaN  \n",
       "3                   1.033333          NaN  \n",
       "4                        NaN          NaN  \n",
       "\n",
       "[5 rows x 21 columns]"
      ],
      "text/html": "<div>\n<style scoped>\n    .dataframe tbody tr th:only-of-type {\n        vertical-align: middle;\n    }\n\n    .dataframe tbody tr th {\n        vertical-align: top;\n    }\n\n    .dataframe thead th {\n        text-align: right;\n    }\n</style>\n<table border=\"1\" class=\"dataframe\">\n  <thead>\n    <tr style=\"text-align: right;\">\n      <th></th>\n      <th>Unnamed: 0</th>\n      <th>Estacao</th>\n      <th>Data</th>\n      <th>Hora</th>\n      <th>Precipitacao</th>\n      <th>TempBulboSeco</th>\n      <th>TempBulboUmido</th>\n      <th>TempMaxima</th>\n      <th>TempMinima</th>\n      <th>UmidadeRelativa</th>\n      <th>...</th>\n      <th>PressaoAtmMar</th>\n      <th>DirecaoVento</th>\n      <th>VelocidadeVento</th>\n      <th>Insolacao</th>\n      <th>Nebulosidade</th>\n      <th>Evaporacao Piche</th>\n      <th>Temp Comp Media</th>\n      <th>Umidade Relativa Media</th>\n      <th>Velocidade do Vento Media</th>\n      <th>Unnamed: 19</th>\n    </tr>\n  </thead>\n  <tbody>\n    <tr>\n      <th>0</th>\n      <td>12132121</td>\n      <td>83377</td>\n      <td>21/08/1961</td>\n      <td>0</td>\n      <td>NaN</td>\n      <td>22.6</td>\n      <td>14.1</td>\n      <td>27.9</td>\n      <td>NaN</td>\n      <td>36.0</td>\n      <td>...</td>\n      <td>NaN</td>\n      <td>NaN</td>\n      <td>NaN</td>\n      <td>10.0</td>\n      <td>NaN</td>\n      <td>NaN</td>\n      <td>22.14</td>\n      <td>36.25</td>\n      <td>1.366667</td>\n      <td>NaN</td>\n    </tr>\n    <tr>\n      <th>1</th>\n      <td>12132122</td>\n      <td>83377</td>\n      <td>21/08/1961</td>\n      <td>1200</td>\n      <td>NaN</td>\n      <td>23.8</td>\n      <td>15.2</td>\n      <td>NaN</td>\n      <td>13.8</td>\n      <td>37.0</td>\n      <td>...</td>\n      <td>NaN</td>\n      <td>9.0</td>\n      <td>1.5</td>\n      <td>NaN</td>\n      <td>0.0</td>\n      <td>NaN</td>\n      <td>NaN</td>\n      <td>NaN</td>\n      <td>NaN</td>\n      <td>NaN</td>\n    </tr>\n    <tr>\n      <th>2</th>\n      <td>12132123</td>\n      <td>83377</td>\n      <td>21/08/1961</td>\n      <td>1800</td>\n      <td>NaN</td>\n      <td>24.2</td>\n      <td>15.4</td>\n      <td>NaN</td>\n      <td>NaN</td>\n      <td>36.0</td>\n      <td>...</td>\n      <td>NaN</td>\n      <td>14.0</td>\n      <td>2.6</td>\n      <td>NaN</td>\n      <td>7.0</td>\n      <td>NaN</td>\n      <td>NaN</td>\n      <td>NaN</td>\n      <td>NaN</td>\n      <td>NaN</td>\n    </tr>\n    <tr>\n      <th>3</th>\n      <td>12132124</td>\n      <td>83377</td>\n      <td>22/08/1961</td>\n      <td>0</td>\n      <td>NaN</td>\n      <td>22.6</td>\n      <td>14.1</td>\n      <td>29.7</td>\n      <td>NaN</td>\n      <td>36.0</td>\n      <td>...</td>\n      <td>NaN</td>\n      <td>0.0</td>\n      <td>0.0</td>\n      <td>9.4</td>\n      <td>5.0</td>\n      <td>NaN</td>\n      <td>23.52</td>\n      <td>28.25</td>\n      <td>1.033333</td>\n      <td>NaN</td>\n    </tr>\n    <tr>\n      <th>4</th>\n      <td>12132125</td>\n      <td>83377</td>\n      <td>22/08/1961</td>\n      <td>1200</td>\n      <td>0.0</td>\n      <td>24.8</td>\n      <td>14.6</td>\n      <td>NaN</td>\n      <td>13.9</td>\n      <td>30.0</td>\n      <td>...</td>\n      <td>NaN</td>\n      <td>14.0</td>\n      <td>2.1</td>\n      <td>NaN</td>\n      <td>4.0</td>\n      <td>NaN</td>\n      <td>NaN</td>\n      <td>NaN</td>\n      <td>NaN</td>\n      <td>NaN</td>\n    </tr>\n  </tbody>\n</table>\n<p>5 rows × 21 columns</p>\n</div>"
     },
     "metadata": {},
     "execution_count": 70
    }
   ],
   "source": [
    "import os\n",
    "\n",
    "import matplotlib.pyplot as plt\n",
    "# import earthpy as et\n",
    "import numpy as np\n",
    "\n",
    "import pandas as pd\n",
    "\n",
    "df = pd.read_csv('83377.csv')\n",
    "\n",
    "df.head()"
   ],
   "metadata": {
    "collapsed": false,
    "pycharm": {
     "name": "#%%\n"
    }
   }
  },
  {
   "cell_type": "code",
   "execution_count": 71,
   "metadata": {},
   "outputs": [],
   "source": [
    "def derive_nth_day_feature(df, feature, N):\n",
    "    rows = df.shape[0]\n",
    "    nth_prior_measurements = [None] * N + [df[feature][i - N] for i in range(N, rows)]\n",
    "    col_name = \"{}_{}\".format(feature, N)\n",
    "    df[col_name] = nth_prior_measurements\n",
    "\n",
    "\n",
    "def dataframe_sort(df):\n",
    "    # make list of original features without meantempm, mintempm, and maxtempm\n",
    "    to_remove = [feature\n",
    "                 for feature in df\n",
    "                 if feature not in ['Precipitacao', 'TempBulboSeco', 'TempBulboUmido', 'TempMaxima', 'TempMinima',\n",
    "                                    'UmidadeRelativa', 'PressaoAtmEstacao', 'PressaoAtmMar', 'DirecaoVento',\n",
    "                                    'VelocidadeVento', 'Insolacao', 'Nebulosidade', 'Evaporacao Piche',\n",
    "                                    'Temp Comp Media', 'Umidade Relativa Media', 'Velocidade do Vento Media']]\n",
    "\n",
    "    # make a list of columns to keep\n",
    "    to_keep = [col for col in df.columns if col not in to_remove]\n",
    "\n",
    "    # select only the columns in to_keep and assign to df\n",
    "    df = df[to_keep]\n",
    "\n",
    "    for feature in df:\n",
    "        if feature != 'Data':\n",
    "            for N in range(1, 4):\n",
    "                derive_nth_day_feature(df, feature, N)\n",
    "\n",
    "    return df"
   ]
  },
  {
   "cell_type": "code",
   "execution_count": 72,
   "metadata": {},
   "outputs": [],
   "source": [
    "# df = dataframe_sort(df)\n",
    "# # df.head()\n",
    "# df2 = df"
   ]
  },
  {
   "cell_type": "code",
   "execution_count": 73,
   "metadata": {},
   "outputs": [],
   "source": [
    "df = df2"
   ]
  },
  {
   "cell_type": "code",
   "execution_count": 74,
   "metadata": {},
   "outputs": [
    {
     "output_type": "execute_result",
     "data": {
      "text/plain": [
       "0.0     13441\n",
       "0.2       254\n",
       "0.1       252\n",
       "0.4       160\n",
       "1.0       158\n",
       "        ...  \n",
       "37.8        1\n",
       "73.6        1\n",
       "46.1        1\n",
       "55.1        1\n",
       "49.9        1\n",
       "Name: Precipitacao, Length: 648, dtype: int64"
      ]
     },
     "metadata": {},
     "execution_count": 74
    }
   ],
   "source": [
    "df = df[df['Precipitacao'].notna()]\n",
    "# df = df[df['TempMaxima'].notna()]\n",
    "df = df.fillna(df.mean())\n",
    "df['Precipitacao'].value_counts()\n"
   ]
  },
  {
   "cell_type": "code",
   "execution_count": 75,
   "metadata": {},
   "outputs": [
    {
     "output_type": "execute_result",
     "data": {
      "text/plain": [
       "    Precipitacao  TempBulboSeco  TempBulboUmido  TempMaxima  TempMinima  \\\n",
       "4            0.0           24.8            14.6         NaN        13.9   \n",
       "7            1.0           19.8            14.6         NaN        13.8   \n",
       "10           0.0           22.4            15.8         NaN        13.2   \n",
       "13           0.0           23.2            15.0         NaN        12.9   \n",
       "16           0.0           25.6            15.2         NaN        12.8   \n",
       "\n",
       "    UmidadeRelativa  PressaoAtmEstacao  PressaoAtmMar  DirecaoVento  \\\n",
       "4              30.0              888.3    1013.285764          14.0   \n",
       "7              56.0              888.3    1013.285764          14.0   \n",
       "10             49.0              902.0    1013.285764           5.0   \n",
       "13             40.0              902.2    1013.285764          14.0   \n",
       "16             30.0              901.9    1013.285764          14.0   \n",
       "\n",
       "    VelocidadeVento  ...  Evaporacao Piche_3  Temp Comp Media_1  \\\n",
       "4               2.1  ...              4.7875              23.52   \n",
       "7               2.6  ...              4.7875              21.04   \n",
       "10              2.6  ...              4.7875              22.56   \n",
       "13              2.6  ...              4.7875              21.90   \n",
       "16              1.5  ...              4.7875              22.64   \n",
       "\n",
       "    Temp Comp Media_2  Temp Comp Media_3  Umidade Relativa Media_1  \\\n",
       "4            22.16359              21.66                     28.25   \n",
       "7            22.16359              21.66                     46.75   \n",
       "10           22.16359              21.66                     35.00   \n",
       "13           22.16359              21.66                     35.75   \n",
       "16           22.16359              21.66                     34.75   \n",
       "\n",
       "    Umidade Relativa Media_2  Umidade Relativa Media_3  \\\n",
       "4                  75.653846                      47.0   \n",
       "7                  75.653846                      47.0   \n",
       "10                 75.653846                      47.0   \n",
       "13                 75.653846                      47.0   \n",
       "16                 75.653846                      47.0   \n",
       "\n",
       "    Velocidade do Vento Media_1  Velocidade do Vento Media_2  \\\n",
       "4                      1.033333                     1.732081   \n",
       "7                      2.066667                     1.732081   \n",
       "10                     2.066667                     1.732081   \n",
       "13                     1.533333                     1.732081   \n",
       "16                     2.033333                     1.732081   \n",
       "\n",
       "    Velocidade do Vento Media_3  \n",
       "4                      1.941552  \n",
       "7                      1.941552  \n",
       "10                     1.941552  \n",
       "13                     1.941552  \n",
       "16                     1.941552  \n",
       "\n",
       "[5 rows x 64 columns]"
      ],
      "text/html": "<div>\n<style scoped>\n    .dataframe tbody tr th:only-of-type {\n        vertical-align: middle;\n    }\n\n    .dataframe tbody tr th {\n        vertical-align: top;\n    }\n\n    .dataframe thead th {\n        text-align: right;\n    }\n</style>\n<table border=\"1\" class=\"dataframe\">\n  <thead>\n    <tr style=\"text-align: right;\">\n      <th></th>\n      <th>Precipitacao</th>\n      <th>TempBulboSeco</th>\n      <th>TempBulboUmido</th>\n      <th>TempMaxima</th>\n      <th>TempMinima</th>\n      <th>UmidadeRelativa</th>\n      <th>PressaoAtmEstacao</th>\n      <th>PressaoAtmMar</th>\n      <th>DirecaoVento</th>\n      <th>VelocidadeVento</th>\n      <th>...</th>\n      <th>Evaporacao Piche_3</th>\n      <th>Temp Comp Media_1</th>\n      <th>Temp Comp Media_2</th>\n      <th>Temp Comp Media_3</th>\n      <th>Umidade Relativa Media_1</th>\n      <th>Umidade Relativa Media_2</th>\n      <th>Umidade Relativa Media_3</th>\n      <th>Velocidade do Vento Media_1</th>\n      <th>Velocidade do Vento Media_2</th>\n      <th>Velocidade do Vento Media_3</th>\n    </tr>\n  </thead>\n  <tbody>\n    <tr>\n      <th>4</th>\n      <td>0.0</td>\n      <td>24.8</td>\n      <td>14.6</td>\n      <td>NaN</td>\n      <td>13.9</td>\n      <td>30.0</td>\n      <td>888.3</td>\n      <td>1013.285764</td>\n      <td>14.0</td>\n      <td>2.1</td>\n      <td>...</td>\n      <td>4.7875</td>\n      <td>23.52</td>\n      <td>22.16359</td>\n      <td>21.66</td>\n      <td>28.25</td>\n      <td>75.653846</td>\n      <td>47.0</td>\n      <td>1.033333</td>\n      <td>1.732081</td>\n      <td>1.941552</td>\n    </tr>\n    <tr>\n      <th>7</th>\n      <td>1.0</td>\n      <td>19.8</td>\n      <td>14.6</td>\n      <td>NaN</td>\n      <td>13.8</td>\n      <td>56.0</td>\n      <td>888.3</td>\n      <td>1013.285764</td>\n      <td>14.0</td>\n      <td>2.6</td>\n      <td>...</td>\n      <td>4.7875</td>\n      <td>21.04</td>\n      <td>22.16359</td>\n      <td>21.66</td>\n      <td>46.75</td>\n      <td>75.653846</td>\n      <td>47.0</td>\n      <td>2.066667</td>\n      <td>1.732081</td>\n      <td>1.941552</td>\n    </tr>\n    <tr>\n      <th>10</th>\n      <td>0.0</td>\n      <td>22.4</td>\n      <td>15.8</td>\n      <td>NaN</td>\n      <td>13.2</td>\n      <td>49.0</td>\n      <td>902.0</td>\n      <td>1013.285764</td>\n      <td>5.0</td>\n      <td>2.6</td>\n      <td>...</td>\n      <td>4.7875</td>\n      <td>22.56</td>\n      <td>22.16359</td>\n      <td>21.66</td>\n      <td>35.00</td>\n      <td>75.653846</td>\n      <td>47.0</td>\n      <td>2.066667</td>\n      <td>1.732081</td>\n      <td>1.941552</td>\n    </tr>\n    <tr>\n      <th>13</th>\n      <td>0.0</td>\n      <td>23.2</td>\n      <td>15.0</td>\n      <td>NaN</td>\n      <td>12.9</td>\n      <td>40.0</td>\n      <td>902.2</td>\n      <td>1013.285764</td>\n      <td>14.0</td>\n      <td>2.6</td>\n      <td>...</td>\n      <td>4.7875</td>\n      <td>21.90</td>\n      <td>22.16359</td>\n      <td>21.66</td>\n      <td>35.75</td>\n      <td>75.653846</td>\n      <td>47.0</td>\n      <td>1.533333</td>\n      <td>1.732081</td>\n      <td>1.941552</td>\n    </tr>\n    <tr>\n      <th>16</th>\n      <td>0.0</td>\n      <td>25.6</td>\n      <td>15.2</td>\n      <td>NaN</td>\n      <td>12.8</td>\n      <td>30.0</td>\n      <td>901.9</td>\n      <td>1013.285764</td>\n      <td>14.0</td>\n      <td>1.5</td>\n      <td>...</td>\n      <td>4.7875</td>\n      <td>22.64</td>\n      <td>22.16359</td>\n      <td>21.66</td>\n      <td>34.75</td>\n      <td>75.653846</td>\n      <td>47.0</td>\n      <td>2.033333</td>\n      <td>1.732081</td>\n      <td>1.941552</td>\n    </tr>\n  </tbody>\n</table>\n<p>5 rows × 64 columns</p>\n</div>"
     },
     "metadata": {},
     "execution_count": 75
    }
   ],
   "source": [
    "df.head()"
   ]
  },
  {
   "cell_type": "code",
   "execution_count": 69,
   "metadata": {},
   "outputs": [
    {
     "output_type": "execute_result",
     "data": {
      "text/plain": [
       "<matplotlib.axes._subplots.AxesSubplot at 0x7f18daf4d970>"
      ]
     },
     "metadata": {},
     "execution_count": 69
    },
    {
     "output_type": "display_data",
     "data": {
      "text/plain": "<Figure size 1008x432 with 1 Axes>",
      "image/svg+xml": "<?xml version=\"1.0\" encoding=\"utf-8\" standalone=\"no\"?>\n<!DOCTYPE svg PUBLIC \"-//W3C//DTD SVG 1.1//EN\"\n  \"http://www.w3.org/Graphics/SVG/1.1/DTD/svg11.dtd\">\n<!-- Created with matplotlib (https://matplotlib.org/) -->\n<svg height=\"360.738125pt\" version=\"1.1\" viewBox=\"0 0 836.745312 360.738125\" width=\"836.745312pt\" xmlns=\"http://www.w3.org/2000/svg\" xmlns:xlink=\"http://www.w3.org/1999/xlink\">\n <defs>\n  <style type=\"text/css\">\n*{stroke-linecap:butt;stroke-linejoin:round;}\n  </style>\n </defs>\n <g id=\"figure_1\">\n  <g id=\"patch_1\">\n   <path d=\"M 0 360.738125 \nL 836.745312 360.738125 \nL 836.745312 0 \nL 0 0 \nz\n\" style=\"fill:none;\"/>\n  </g>\n  <g id=\"axes_1\">\n   <g id=\"patch_2\">\n    <path d=\"M 44.845313 336.86 \nL 826.045313 336.86 \nL 826.045313 10.7 \nL 44.845313 10.7 \nz\n\" style=\"fill:#ffffff;\"/>\n   </g>\n   <g id=\"matplotlib.axis_1\">\n    <g id=\"xtick_1\">\n     <g id=\"line2d_1\">\n      <defs>\n       <path d=\"M 0 0 \nL 0 3.5 \n\" id=\"m23bf0089f6\" style=\"stroke:#000000;stroke-width:0.8;\"/>\n      </defs>\n      <g>\n       <use style=\"stroke:#000000;stroke-width:0.8;\" x=\"151.372585\" xlink:href=\"#m23bf0089f6\" y=\"336.86\"/>\n      </g>\n     </g>\n     <g id=\"text_1\">\n      <!-- −0.04 -->\n      <defs>\n       <path d=\"M 10.59375 35.5 \nL 73.1875 35.5 \nL 73.1875 27.203125 \nL 10.59375 27.203125 \nz\n\" id=\"DejaVuSans-8722\"/>\n       <path d=\"M 31.78125 66.40625 \nQ 24.171875 66.40625 20.328125 58.90625 \nQ 16.5 51.421875 16.5 36.375 \nQ 16.5 21.390625 20.328125 13.890625 \nQ 24.171875 6.390625 31.78125 6.390625 \nQ 39.453125 6.390625 43.28125 13.890625 \nQ 47.125 21.390625 47.125 36.375 \nQ 47.125 51.421875 43.28125 58.90625 \nQ 39.453125 66.40625 31.78125 66.40625 \nz\nM 31.78125 74.21875 \nQ 44.046875 74.21875 50.515625 64.515625 \nQ 56.984375 54.828125 56.984375 36.375 \nQ 56.984375 17.96875 50.515625 8.265625 \nQ 44.046875 -1.421875 31.78125 -1.421875 \nQ 19.53125 -1.421875 13.0625 8.265625 \nQ 6.59375 17.96875 6.59375 36.375 \nQ 6.59375 54.828125 13.0625 64.515625 \nQ 19.53125 74.21875 31.78125 74.21875 \nz\n\" id=\"DejaVuSans-48\"/>\n       <path d=\"M 10.6875 12.40625 \nL 21 12.40625 \nL 21 0 \nL 10.6875 0 \nz\n\" id=\"DejaVuSans-46\"/>\n       <path d=\"M 37.796875 64.3125 \nL 12.890625 25.390625 \nL 37.796875 25.390625 \nz\nM 35.203125 72.90625 \nL 47.609375 72.90625 \nL 47.609375 25.390625 \nL 58.015625 25.390625 \nL 58.015625 17.1875 \nL 47.609375 17.1875 \nL 47.609375 0 \nL 37.796875 0 \nL 37.796875 17.1875 \nL 4.890625 17.1875 \nL 4.890625 26.703125 \nz\n\" id=\"DejaVuSans-52\"/>\n      </defs>\n      <g transform=\"translate(136.049929 351.458437)scale(0.1 -0.1)\">\n       <use xlink:href=\"#DejaVuSans-8722\"/>\n       <use x=\"83.789062\" xlink:href=\"#DejaVuSans-48\"/>\n       <use x=\"147.412109\" xlink:href=\"#DejaVuSans-46\"/>\n       <use x=\"179.199219\" xlink:href=\"#DejaVuSans-48\"/>\n       <use x=\"242.822266\" xlink:href=\"#DejaVuSans-52\"/>\n      </g>\n     </g>\n    </g>\n    <g id=\"xtick_2\">\n     <g id=\"line2d_2\">\n      <g>\n       <use style=\"stroke:#000000;stroke-width:0.8;\" x=\"293.408949\" xlink:href=\"#m23bf0089f6\" y=\"336.86\"/>\n      </g>\n     </g>\n     <g id=\"text_2\">\n      <!-- −0.02 -->\n      <defs>\n       <path d=\"M 19.1875 8.296875 \nL 53.609375 8.296875 \nL 53.609375 0 \nL 7.328125 0 \nL 7.328125 8.296875 \nQ 12.9375 14.109375 22.625 23.890625 \nQ 32.328125 33.6875 34.8125 36.53125 \nQ 39.546875 41.84375 41.421875 45.53125 \nQ 43.3125 49.21875 43.3125 52.78125 \nQ 43.3125 58.59375 39.234375 62.25 \nQ 35.15625 65.921875 28.609375 65.921875 \nQ 23.96875 65.921875 18.8125 64.3125 \nQ 13.671875 62.703125 7.8125 59.421875 \nL 7.8125 69.390625 \nQ 13.765625 71.78125 18.9375 73 \nQ 24.125 74.21875 28.421875 74.21875 \nQ 39.75 74.21875 46.484375 68.546875 \nQ 53.21875 62.890625 53.21875 53.421875 \nQ 53.21875 48.921875 51.53125 44.890625 \nQ 49.859375 40.875 45.40625 35.40625 \nQ 44.1875 33.984375 37.640625 27.21875 \nQ 31.109375 20.453125 19.1875 8.296875 \nz\n\" id=\"DejaVuSans-50\"/>\n      </defs>\n      <g transform=\"translate(278.086293 351.458437)scale(0.1 -0.1)\">\n       <use xlink:href=\"#DejaVuSans-8722\"/>\n       <use x=\"83.789062\" xlink:href=\"#DejaVuSans-48\"/>\n       <use x=\"147.412109\" xlink:href=\"#DejaVuSans-46\"/>\n       <use x=\"179.199219\" xlink:href=\"#DejaVuSans-48\"/>\n       <use x=\"242.822266\" xlink:href=\"#DejaVuSans-50\"/>\n      </g>\n     </g>\n    </g>\n    <g id=\"xtick_3\">\n     <g id=\"line2d_3\">\n      <g>\n       <use style=\"stroke:#000000;stroke-width:0.8;\" x=\"435.445312\" xlink:href=\"#m23bf0089f6\" y=\"336.86\"/>\n      </g>\n     </g>\n     <g id=\"text_3\">\n      <!-- 0.00 -->\n      <g transform=\"translate(424.3125 351.458437)scale(0.1 -0.1)\">\n       <use xlink:href=\"#DejaVuSans-48\"/>\n       <use x=\"63.623047\" xlink:href=\"#DejaVuSans-46\"/>\n       <use x=\"95.410156\" xlink:href=\"#DejaVuSans-48\"/>\n       <use x=\"159.033203\" xlink:href=\"#DejaVuSans-48\"/>\n      </g>\n     </g>\n    </g>\n    <g id=\"xtick_4\">\n     <g id=\"line2d_4\">\n      <g>\n       <use style=\"stroke:#000000;stroke-width:0.8;\" x=\"577.481676\" xlink:href=\"#m23bf0089f6\" y=\"336.86\"/>\n      </g>\n     </g>\n     <g id=\"text_4\">\n      <!-- 0.02 -->\n      <g transform=\"translate(566.348864 351.458437)scale(0.1 -0.1)\">\n       <use xlink:href=\"#DejaVuSans-48\"/>\n       <use x=\"63.623047\" xlink:href=\"#DejaVuSans-46\"/>\n       <use x=\"95.410156\" xlink:href=\"#DejaVuSans-48\"/>\n       <use x=\"159.033203\" xlink:href=\"#DejaVuSans-50\"/>\n      </g>\n     </g>\n    </g>\n    <g id=\"xtick_5\">\n     <g id=\"line2d_5\">\n      <g>\n       <use style=\"stroke:#000000;stroke-width:0.8;\" x=\"719.51804\" xlink:href=\"#m23bf0089f6\" y=\"336.86\"/>\n      </g>\n     </g>\n     <g id=\"text_5\">\n      <!-- 0.04 -->\n      <g transform=\"translate(708.385227 351.458437)scale(0.1 -0.1)\">\n       <use xlink:href=\"#DejaVuSans-48\"/>\n       <use x=\"63.623047\" xlink:href=\"#DejaVuSans-46\"/>\n       <use x=\"95.410156\" xlink:href=\"#DejaVuSans-48\"/>\n       <use x=\"159.033203\" xlink:href=\"#DejaVuSans-52\"/>\n      </g>\n     </g>\n    </g>\n   </g>\n   <g id=\"matplotlib.axis_2\">\n    <g id=\"ytick_1\">\n     <g id=\"line2d_6\">\n      <defs>\n       <path d=\"M 0 0 \nL -3.5 0 \n\" id=\"mc052556b6f\" style=\"stroke:#000000;stroke-width:0.8;\"/>\n      </defs>\n      <g>\n       <use style=\"stroke:#000000;stroke-width:0.8;\" x=\"44.845313\" xlink:href=\"#mc052556b6f\" y=\"292.383636\"/>\n      </g>\n     </g>\n     <g id=\"text_6\">\n      <!-- −0.04 -->\n      <g transform=\"translate(7.2 296.182855)scale(0.1 -0.1)\">\n       <use xlink:href=\"#DejaVuSans-8722\"/>\n       <use x=\"83.789062\" xlink:href=\"#DejaVuSans-48\"/>\n       <use x=\"147.412109\" xlink:href=\"#DejaVuSans-46\"/>\n       <use x=\"179.199219\" xlink:href=\"#DejaVuSans-48\"/>\n       <use x=\"242.822266\" xlink:href=\"#DejaVuSans-52\"/>\n      </g>\n     </g>\n    </g>\n    <g id=\"ytick_2\">\n     <g id=\"line2d_7\">\n      <g>\n       <use style=\"stroke:#000000;stroke-width:0.8;\" x=\"44.845313\" xlink:href=\"#mc052556b6f\" y=\"233.081818\"/>\n      </g>\n     </g>\n     <g id=\"text_7\">\n      <!-- −0.02 -->\n      <g transform=\"translate(7.2 236.881037)scale(0.1 -0.1)\">\n       <use xlink:href=\"#DejaVuSans-8722\"/>\n       <use x=\"83.789062\" xlink:href=\"#DejaVuSans-48\"/>\n       <use x=\"147.412109\" xlink:href=\"#DejaVuSans-46\"/>\n       <use x=\"179.199219\" xlink:href=\"#DejaVuSans-48\"/>\n       <use x=\"242.822266\" xlink:href=\"#DejaVuSans-50\"/>\n      </g>\n     </g>\n    </g>\n    <g id=\"ytick_3\">\n     <g id=\"line2d_8\">\n      <g>\n       <use style=\"stroke:#000000;stroke-width:0.8;\" x=\"44.845313\" xlink:href=\"#mc052556b6f\" y=\"173.78\"/>\n      </g>\n     </g>\n     <g id=\"text_8\">\n      <!-- 0.00 -->\n      <g transform=\"translate(15.579688 177.579219)scale(0.1 -0.1)\">\n       <use xlink:href=\"#DejaVuSans-48\"/>\n       <use x=\"63.623047\" xlink:href=\"#DejaVuSans-46\"/>\n       <use x=\"95.410156\" xlink:href=\"#DejaVuSans-48\"/>\n       <use x=\"159.033203\" xlink:href=\"#DejaVuSans-48\"/>\n      </g>\n     </g>\n    </g>\n    <g id=\"ytick_4\">\n     <g id=\"line2d_9\">\n      <g>\n       <use style=\"stroke:#000000;stroke-width:0.8;\" x=\"44.845313\" xlink:href=\"#mc052556b6f\" y=\"114.478182\"/>\n      </g>\n     </g>\n     <g id=\"text_9\">\n      <!-- 0.02 -->\n      <g transform=\"translate(15.579688 118.277401)scale(0.1 -0.1)\">\n       <use xlink:href=\"#DejaVuSans-48\"/>\n       <use x=\"63.623047\" xlink:href=\"#DejaVuSans-46\"/>\n       <use x=\"95.410156\" xlink:href=\"#DejaVuSans-48\"/>\n       <use x=\"159.033203\" xlink:href=\"#DejaVuSans-50\"/>\n      </g>\n     </g>\n    </g>\n    <g id=\"ytick_5\">\n     <g id=\"line2d_10\">\n      <g>\n       <use style=\"stroke:#000000;stroke-width:0.8;\" x=\"44.845313\" xlink:href=\"#mc052556b6f\" y=\"55.176364\"/>\n      </g>\n     </g>\n     <g id=\"text_10\">\n      <!-- 0.04 -->\n      <g transform=\"translate(15.579688 58.975582)scale(0.1 -0.1)\">\n       <use xlink:href=\"#DejaVuSans-48\"/>\n       <use x=\"63.623047\" xlink:href=\"#DejaVuSans-46\"/>\n       <use x=\"95.410156\" xlink:href=\"#DejaVuSans-48\"/>\n       <use x=\"159.033203\" xlink:href=\"#DejaVuSans-52\"/>\n      </g>\n     </g>\n    </g>\n   </g>\n   <g id=\"line2d_11\"/>\n   <g id=\"patch_3\">\n    <path d=\"M 44.845313 336.86 \nL 44.845313 10.7 \n\" style=\"fill:none;stroke:#000000;stroke-linecap:square;stroke-linejoin:miter;stroke-width:0.8;\"/>\n   </g>\n   <g id=\"patch_4\">\n    <path d=\"M 826.045313 336.86 \nL 826.045313 10.7 \n\" style=\"fill:none;stroke:#000000;stroke-linecap:square;stroke-linejoin:miter;stroke-width:0.8;\"/>\n   </g>\n   <g id=\"patch_5\">\n    <path d=\"M 44.845312 336.86 \nL 826.045313 336.86 \n\" style=\"fill:none;stroke:#000000;stroke-linecap:square;stroke-linejoin:miter;stroke-width:0.8;\"/>\n   </g>\n   <g id=\"patch_6\">\n    <path d=\"M 44.845312 10.7 \nL 826.045313 10.7 \n\" style=\"fill:none;stroke:#000000;stroke-linecap:square;stroke-linejoin:miter;stroke-width:0.8;\"/>\n   </g>\n  </g>\n </g>\n</svg>\n",
      "image/png": "[encoded data removed]"
     },
     "metadata": {
      "needs_background": "light"
     }
    }
   ],
   "source": [
    "plt.figure(figsize=(14,6))\n",
    "df['TempMaxima'].plot()"
   ]
  }
 ],
 "metadata": {
  "kernelspec": {
   "name": "python385jvsc74a57bd0d6e70badd58d0343576aa678b1e847c1ad0336ec996a7846bc648094d19da43e",
   "display_name": "Python 3.8.5 64-bit ('base': conda)"
  },
  "language_info": {
   "codemirror_mode": {
    "name": "ipython",
    "version": 2
   },
   "file_extension": ".py",
   "mimetype": "text/x-python",
   "name": "python",
   "nbconvert_exporter": "python",
   "pygments_lexer": "ipython2",
   "version": "3.8.5"
  },
  "metadata": {
   "interpreter": {
    "hash": "d6e70badd58d0343576aa678b1e847c1ad0336ec996a7846bc648094d19da43e"
   }
  }
 },
 "nbformat": 4,
 "nbformat_minor": 0
}