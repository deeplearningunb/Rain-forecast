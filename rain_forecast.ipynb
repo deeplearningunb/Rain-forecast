{
 "cells": [
  {
   "cell_type": "markdown",
   "metadata": {},
   "source": [
    "### Importando pacotes e dataset"
   ]
  },
  {
   "cell_type": "code",
   "execution_count": null,
   "metadata": {
    "pycharm": {
     "name": "#%%\n"
    }
   },
   "outputs": [],
   "source": [
    "import os\n",
    "\n",
    "import matplotlib.pyplot as plt\n",
    "# import earthpy as et\n",
    "import numpy as np\n",
    "\n",
    "import pandas as pd\n",
    "\n",
    "df = pd.read_csv('83377.csv')\n",
    "\n",
    "df.head()"
   ]
  },
  {
   "cell_type": "code",
   "execution_count": null,
   "metadata": {
    "pycharm": {
     "name": "#%%\n"
    }
   },
   "outputs": [],
   "source": [
    "df.columns"
   ]
  },
  {
   "cell_type": "code",
   "execution_count": null,
   "metadata": {},
   "outputs": [],
   "source": [
    "def derive_nth_day_feature(df, feature, N):\n",
    "    rows = df.shape[0]\n",
    "    nth_prior_measurements = [None] * N + [df[feature][i - N] for i in range(N, rows)]\n",
    "    col_name = \"{}_{}\".format(feature, N)\n",
    "    df[col_name] = nth_prior_measurements\n",
    "\n",
    "\n",
    "def dataframe_sort(df):\n",
    "    # make list of original features without meantempm, mintempm, and maxtempm\n",
    "    to_remove = [feature\n",
    "                 for feature in df\n",
    "                 if feature not in ['Precipitacao', 'TempBulboSeco', 'TempBulboUmido', 'TempMaxima', 'TempMinima',\n",
    "                                    'UmidadeRelativa', 'PressaoAtmEstacao', 'PressaoAtmMar', 'DirecaoVento',\n",
    "                                    'VelocidadeVento', 'Insolacao', 'Nebulosidade', 'Evaporacao Piche',\n",
    "                                    'Temp Comp Media', 'Umidade Relativa Media', 'Velocidade do Vento Media']]\n",
    "\n",
    "    # make a list of columns to keep\n",
    "    to_keep = [col for col in df.columns if col not in to_remove]\n",
    "\n",
    "    # select only the columns in to_keep and assign to df\n",
    "    df = df[to_keep]\n",
    "\n",
    "    for feature in df:\n",
    "        if feature != 'Data':\n",
    "            for N in range(1, 4):\n",
    "                derive_nth_day_feature(df, feature, N)\n",
    "\n",
    "    return df"
   ]
  },
  {
   "cell_type": "code",
   "execution_count": null,
   "metadata": {},
   "outputs": [],
   "source": [
    "# df = dataframe_sort(df)\n",
    "# # df.head()\n",
    "# df2 = df\n",
    "del df['Unnamed: 0']\n",
    "del df['Unnamed: 19']\n",
    "del df['Estacao']\n",
    "df.info()"
   ]
  },
  {
   "cell_type": "code",
   "execution_count": null,
   "metadata": {},
   "outputs": [],
   "source": [
    "# df = df2\n",
    "df['TempMaxima'].value_counts()\n",
    "df.head()"
   ]
  },
  {
   "cell_type": "code",
   "execution_count": null,
   "metadata": {},
   "outputs": [],
   "source": [
    "# df = df.loc[:, df.columns != 'Data']\n",
    "# print(df.head())\n",
    "df = df.fillna(df.mean(axis=0, skipna=True))\n",
    "#df['Precipitacao'].value_counts()\n"
   ]
  },
  {
   "cell_type": "code",
   "execution_count": null,
   "metadata": {},
   "outputs": [],
   "source": [
    "df.head()"
   ]
  },
  {
   "cell_type": "code",
   "execution_count": null,
   "metadata": {},
   "outputs": [],
   "source": [
    "plt.figure(figsize=(14,6))\n",
    "df['TempMaxima'].plot()"
   ]
  }
 ],
 "metadata": {
  "kernelspec": {
   "display_name": "Python 3",
   "language": "python",
   "name": "python3"
  },
  "language_info": {
   "codemirror_mode": {
    "name": "ipython",
    "version": 3
   },
   "file_extension": ".py",
   "mimetype": "text/x-python",
   "name": "python",
   "nbconvert_exporter": "python",
   "pygments_lexer": "ipython3",
   "version": "3.8.8"
  },
  "metadata": {
   "interpreter": {
    "hash": "d6e70badd58d0343576aa678b1e847c1ad0336ec996a7846bc648094d19da43e"
   }
  }
 },
 "nbformat": 4,
 "nbformat_minor": 1
}
