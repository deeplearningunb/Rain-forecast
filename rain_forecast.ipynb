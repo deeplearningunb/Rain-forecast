{
 "cells": [
  {
   "cell_type": "markdown",
   "source": [
    "### Importando pacotes e dataset"
   ],
   "metadata": {
    "collapsed": false
   }
  },
  {
   "cell_type": "code",
   "execution_count": 7,
   "outputs": [
    {
     "data": {
      "text/plain": "   Unnamed: 0  Estacao        Data  Hora  Precipitacao  TempBulboSeco  \\\n0    12132121    83377  21/08/1961     0           NaN           22.6   \n1    12132122    83377  21/08/1961  1200           NaN           23.8   \n2    12132123    83377  21/08/1961  1800           NaN           24.2   \n3    12132124    83377  22/08/1961     0           NaN           22.6   \n4    12132125    83377  22/08/1961  1200           0.0           24.8   \n\n   TempBulboUmido  TempMaxima  TempMinima  UmidadeRelativa  ...  \\\n0            14.1        27.9         NaN             36.0  ...   \n1            15.2         NaN        13.8             37.0  ...   \n2            15.4         NaN         NaN             36.0  ...   \n3            14.1        29.7         NaN             36.0  ...   \n4            14.6         NaN        13.9             30.0  ...   \n\n   PressaoAtmMar  DirecaoVento  VelocidadeVento  Insolacao  Nebulosidade  \\\n0            NaN           NaN              NaN       10.0           NaN   \n1            NaN           9.0              1.5        NaN           0.0   \n2            NaN          14.0              2.6        NaN           7.0   \n3            NaN           0.0              0.0        9.4           5.0   \n4            NaN          14.0              2.1        NaN           4.0   \n\n   Evaporacao Piche  Temp Comp Media  Umidade Relativa Media  \\\n0               NaN            22.14                   36.25   \n1               NaN              NaN                     NaN   \n2               NaN              NaN                     NaN   \n3               NaN            23.52                   28.25   \n4               NaN              NaN                     NaN   \n\n   Velocidade do Vento Media  Unnamed: 19  \n0                   1.366667          NaN  \n1                        NaN          NaN  \n2                        NaN          NaN  \n3                   1.033333          NaN  \n4                        NaN          NaN  \n\n[5 rows x 21 columns]",
      "text/html": "<div>\n<style scoped>\n    .dataframe tbody tr th:only-of-type {\n        vertical-align: middle;\n    }\n\n    .dataframe tbody tr th {\n        vertical-align: top;\n    }\n\n    .dataframe thead th {\n        text-align: right;\n    }\n</style>\n<table border=\"1\" class=\"dataframe\">\n  <thead>\n    <tr style=\"text-align: right;\">\n      <th></th>\n      <th>Unnamed: 0</th>\n      <th>Estacao</th>\n      <th>Data</th>\n      <th>Hora</th>\n      <th>Precipitacao</th>\n      <th>TempBulboSeco</th>\n      <th>TempBulboUmido</th>\n      <th>TempMaxima</th>\n      <th>TempMinima</th>\n      <th>UmidadeRelativa</th>\n      <th>...</th>\n      <th>PressaoAtmMar</th>\n      <th>DirecaoVento</th>\n      <th>VelocidadeVento</th>\n      <th>Insolacao</th>\n      <th>Nebulosidade</th>\n      <th>Evaporacao Piche</th>\n      <th>Temp Comp Media</th>\n      <th>Umidade Relativa Media</th>\n      <th>Velocidade do Vento Media</th>\n      <th>Unnamed: 19</th>\n    </tr>\n  </thead>\n  <tbody>\n    <tr>\n      <th>0</th>\n      <td>12132121</td>\n      <td>83377</td>\n      <td>21/08/1961</td>\n      <td>0</td>\n      <td>NaN</td>\n      <td>22.6</td>\n      <td>14.1</td>\n      <td>27.9</td>\n      <td>NaN</td>\n      <td>36.0</td>\n      <td>...</td>\n      <td>NaN</td>\n      <td>NaN</td>\n      <td>NaN</td>\n      <td>10.0</td>\n      <td>NaN</td>\n      <td>NaN</td>\n      <td>22.14</td>\n      <td>36.25</td>\n      <td>1.366667</td>\n      <td>NaN</td>\n    </tr>\n    <tr>\n      <th>1</th>\n      <td>12132122</td>\n      <td>83377</td>\n      <td>21/08/1961</td>\n      <td>1200</td>\n      <td>NaN</td>\n      <td>23.8</td>\n      <td>15.2</td>\n      <td>NaN</td>\n      <td>13.8</td>\n      <td>37.0</td>\n      <td>...</td>\n      <td>NaN</td>\n      <td>9.0</td>\n      <td>1.5</td>\n      <td>NaN</td>\n      <td>0.0</td>\n      <td>NaN</td>\n      <td>NaN</td>\n      <td>NaN</td>\n      <td>NaN</td>\n      <td>NaN</td>\n    </tr>\n    <tr>\n      <th>2</th>\n      <td>12132123</td>\n      <td>83377</td>\n      <td>21/08/1961</td>\n      <td>1800</td>\n      <td>NaN</td>\n      <td>24.2</td>\n      <td>15.4</td>\n      <td>NaN</td>\n      <td>NaN</td>\n      <td>36.0</td>\n      <td>...</td>\n      <td>NaN</td>\n      <td>14.0</td>\n      <td>2.6</td>\n      <td>NaN</td>\n      <td>7.0</td>\n      <td>NaN</td>\n      <td>NaN</td>\n      <td>NaN</td>\n      <td>NaN</td>\n      <td>NaN</td>\n    </tr>\n    <tr>\n      <th>3</th>\n      <td>12132124</td>\n      <td>83377</td>\n      <td>22/08/1961</td>\n      <td>0</td>\n      <td>NaN</td>\n      <td>22.6</td>\n      <td>14.1</td>\n      <td>29.7</td>\n      <td>NaN</td>\n      <td>36.0</td>\n      <td>...</td>\n      <td>NaN</td>\n      <td>0.0</td>\n      <td>0.0</td>\n      <td>9.4</td>\n      <td>5.0</td>\n      <td>NaN</td>\n      <td>23.52</td>\n      <td>28.25</td>\n      <td>1.033333</td>\n      <td>NaN</td>\n    </tr>\n    <tr>\n      <th>4</th>\n      <td>12132125</td>\n      <td>83377</td>\n      <td>22/08/1961</td>\n      <td>1200</td>\n      <td>0.0</td>\n      <td>24.8</td>\n      <td>14.6</td>\n      <td>NaN</td>\n      <td>13.9</td>\n      <td>30.0</td>\n      <td>...</td>\n      <td>NaN</td>\n      <td>14.0</td>\n      <td>2.1</td>\n      <td>NaN</td>\n      <td>4.0</td>\n      <td>NaN</td>\n      <td>NaN</td>\n      <td>NaN</td>\n      <td>NaN</td>\n      <td>NaN</td>\n    </tr>\n  </tbody>\n</table>\n<p>5 rows × 21 columns</p>\n</div>"
     },
     "execution_count": 7,
     "metadata": {},
     "output_type": "execute_result"
    }
   ],
   "source": [
    "import os\n",
    "\n",
    "import matplotlib.pyplot as plt\n",
    "import earthpy as et\n",
    "import numpy as np\n",
    "\n",
    "import pandas as pd\n",
    "\n",
    "df = pd.read_csv('83377.csv')\n",
    "\n",
    "df.head()"
   ],
   "metadata": {
    "collapsed": false,
    "pycharm": {
     "name": "#%%\n"
    }
   }
  }
 ],
 "metadata": {
  "kernelspec": {
   "display_name": "Python 3",
   "language": "python",
   "name": "python3"
  },
  "language_info": {
   "codemirror_mode": {
    "name": "ipython",
    "version": 2
   },
   "file_extension": ".py",
   "mimetype": "text/x-python",
   "name": "python",
   "nbconvert_exporter": "python",
   "pygments_lexer": "ipython2",
   "version": "2.7.6"
  }
 },
 "nbformat": 4,
 "nbformat_minor": 0
}